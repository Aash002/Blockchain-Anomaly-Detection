{
  "nbformat": 4,
  "nbformat_minor": 0,
  "metadata": {
    "colab": {
      "provenance": [],
      "authorship_tag": "ABX9TyPrFTtx/YONgMMEPDdrL1on",
      "include_colab_link": true
    },
    "kernelspec": {
      "name": "python3",
      "display_name": "Python 3"
    },
    "language_info": {
      "name": "python"
    }
  },
  "cells": [
    {
      "cell_type": "markdown",
      "metadata": {
        "id": "view-in-github",
        "colab_type": "text"
      },
      "source": [
        "<a href=\"https://colab.research.google.com/github/Aash002/Blockchain-Anomaly-Detection/blob/main/VoiceBot_Home_LLC.ipynb\" target=\"_parent\"><img src=\"https://colab.research.google.com/assets/colab-badge.svg\" alt=\"Open In Colab\"/></a>"
      ]
    },
    {
      "cell_type": "markdown",
      "source": [
        "**🛠️ Step-by-Step Instructions to Use VoxGPT\n",
        "Follow the steps below to experience your personal voice assistant in action:**\n",
        "<br><br>\n",
        "\n",
        "**✅ STEP 1: Run All Code Cells**\n",
        "\n",
        "Click on the menu at the top: Runtime → Run all\n",
        "\n",
        "Wait for the notebook to finish installing and setting up everything (this takes ~2 minutes)\n",
        "\n",
        "<br><br>\n",
        "**🔐 STEP 2: Enter Your OpenAI API Key**\n",
        "\n",
        "When prompted, paste your OpenAI API Key and hit Enter.\n",
        "\n",
        "🔗 You can get your API key from: https://platform.openai.com/account/api-keys\n",
        "\n",
        "Note: Your key is only used during this session and not stored anywhere.\n",
        "\n",
        "\n",
        "<br><br>\n",
        "**🌐 STEP 3: Launch the Gradio App**\n",
        "\n",
        "After all cells run successfully, you will see this message:\n",
        "\n",
        "    Running on public URL: https://xxxxx.gradio.live\n",
        "🔗 Click the link to open the voicebot app in a new browser tab.\n",
        "\n",
        "<br><br>\n",
        "\n",
        "**🎤 STEP 4: Record Your Voice Question**\n",
        "\n",
        "In the app interface, click the microphone button and then click on record.\n",
        "\n",
        "Ask your question clearly (e.g., “What's your #1 superpower?”)\n",
        "\n",
        "\n",
        "Wait for a few seconds — your voice will be:\n",
        "\n",
        "Transcribed into text 📝\n",
        "\n",
        "Answered by GPT-3.5 Turbo 🧠\n",
        "\n",
        "Spoken back to you with real voice 🔊\n",
        "\n",
        "<br><br>\n",
        "\n",
        "**📋 STEP 5: View and Listen to the Response**\n",
        "\n",
        "Once processed, you will see:\n",
        "\n",
        "✅ A transcript of your question and GPT’s answer\n",
        "\n",
        "🔊 An audio player to listen to the response\n",
        "\n"
      ],
      "metadata": {
        "id": "zXHBOPgveos-"
      }
    },
    {
      "cell_type": "code",
      "source": [
        "# 🛠️ Step 1: Install Dependencies\n",
        "!pip install -q --upgrade openai gradio gtts SpeechRecognition pydub"
      ],
      "metadata": {
        "colab": {
          "base_uri": "https://localhost:8080/"
        },
        "id": "uFTzavz3QMqp",
        "outputId": "3e0b50ca-9375-414c-bfdf-7e021af20719"
      },
      "execution_count": null,
      "outputs": [
        {
          "output_type": "stream",
          "name": "stdout",
          "text": [
            "\u001b[2K   \u001b[90m━━━━━━━━━━━━━━━━━━━━━━━━━━━━━━━━━━━━━━━━\u001b[0m \u001b[32m730.3/730.3 kB\u001b[0m \u001b[31m8.4 MB/s\u001b[0m eta \u001b[36m0:00:00\u001b[0m\n",
            "\u001b[2K   \u001b[90m━━━━━━━━━━━━━━━━━━━━━━━━━━━━━━━━━━━━━━━━\u001b[0m \u001b[32m54.3/54.3 MB\u001b[0m \u001b[31m12.7 MB/s\u001b[0m eta \u001b[36m0:00:00\u001b[0m\n",
            "\u001b[2K   \u001b[90m━━━━━━━━━━━━━━━━━━━━━━━━━━━━━━━━━━━━━━━━\u001b[0m \u001b[32m323.6/323.6 kB\u001b[0m \u001b[31m12.2 MB/s\u001b[0m eta \u001b[36m0:00:00\u001b[0m\n",
            "\u001b[2K   \u001b[90m━━━━━━━━━━━━━━━━━━━━━━━━━━━━━━━━━━━━━━━━\u001b[0m \u001b[32m32.9/32.9 MB\u001b[0m \u001b[31m22.2 MB/s\u001b[0m eta \u001b[36m0:00:00\u001b[0m\n",
            "\u001b[2K   \u001b[90m━━━━━━━━━━━━━━━━━━━━━━━━━━━━━━━━━━━━━━━━\u001b[0m \u001b[32m98.2/98.2 kB\u001b[0m \u001b[31m2.1 MB/s\u001b[0m eta \u001b[36m0:00:00\u001b[0m\n",
            "\u001b[?25h"
          ]
        }
      ]
    },
    {
      "cell_type": "code",
      "source": [
        "# 🧠 Step 2: Imports\n",
        "import openai\n",
        "import gradio as gr\n",
        "from gtts import gTTS\n",
        "import speech_recognition as sr\n",
        "import tempfile\n",
        "import os\n",
        "import getpass"
      ],
      "metadata": {
        "id": "y-5p6yDrQMko"
      },
      "execution_count": null,
      "outputs": []
    },
    {
      "cell_type": "code",
      "source": [
        "\n",
        "\n",
        "\n",
        "\n",
        "# 🔐 Step 3: Ask User for OpenAI API Key Securely\n",
        "openai_api_key = getpass.getpass(\"🔑 Enter your OpenAI API Key:\")\n",
        "client = openai.OpenAI(api_key=openai_api_key)\n",
        "\n",
        "# 🗣️ Step 4: Define the VoiceGPT Function\n",
        "def voicegpt(audio_path):\n",
        "    recognizer = sr.Recognizer()\n",
        "    try:\n",
        "        with sr.AudioFile(audio_path) as source:\n",
        "            audio_data = recognizer.record(source)\n",
        "            user_input = recognizer.recognize_google(audio_data)\n",
        "    except Exception as e:\n",
        "        return f\"❌ Could not transcribe audio: {e}\", None\n",
        "\n",
        "    try:\n",
        "        response = client.chat.completions.create(\n",
        "            model=\"gpt-3.5-turbo\",\n",
        "            messages=[\n",
        "                {\n",
        "                    \"role\": \"system\",\n",
        "                    \"content\": (\n",
        "                        \"You are a top-tier thinker and emotionally intelligent individual who combines technical depth with human empathy.\"\n",
        "                        \"You answer questions in a structured, articulate way who reflects before responding.\"\n",
        "                        \"Speak in a kind, thoughtful, and reflective tone like a wise friend. \"\n",
        "                        \"Respond to deep questions about self, life, growth, or relationships with curiosity, clarity, and warmth.\"\n",
        "                        \"Never give vague or motivational fluff — always be insightful and grounded.\"\n",
        "                    ),\n",
        "                },\n",
        "                {\"role\": \"user\", \"content\": user_input},\n",
        "            ],\n",
        "            temperature=0.85,\n",
        "        )\n",
        "        reply = response.choices[0].message.content.strip()\n",
        "        transcript = f\"🎙️ You asked: \\\"{user_input}\\\"\\n\\n🧠 VoxGPT says:\\n{reply}\"\n",
        "    except Exception as e:\n",
        "        return f\"❌ GPT error: {e}\", None\n",
        "\n",
        "    try:\n",
        "        tts = gTTS(text=reply)\n",
        "        temp_audio = tempfile.NamedTemporaryFile(delete=False, suffix=\".mp3\")\n",
        "        tts.save(temp_audio.name)\n",
        "        return transcript, temp_audio.name\n",
        "    except Exception as e:\n",
        "        return f\"❌ TTS error: {e}\", None\n",
        "\n",
        "# 🌟 Step 5: Launch the Enhanced Gradio UI\n",
        "gr.Interface(\n",
        "    fn=voicegpt,\n",
        "    # Removed the deprecated 'source=\"microphone\"' argument.\n",
        "    # type=\"filepath\" handles microphone input automatically in recent Gradio versions.\n",
        "    inputs=gr.Audio(type=\"filepath\", label=\"🎤 Tap to Record Your Question\"),\n",
        "    outputs=[\n",
        "        gr.Text(label=\"📋 VoxGPT’s Thoughtful Response\", show_copy_button=True),\n",
        "        gr.Audio(label=\"🔊 Spoken Answer from VoxGPT\")\n",
        "    ],\n",
        "    title=\"🔮 VoxGPT – Your Empathic Voice Companion\",\n",
        "    description=(\n",
        "        \"**Welcome to VoxGPT!** 🎙️\\n\\n\"\n",
        "        \"Speak your question aloud and let VoxGPT respond with kindness, clarity, and wisdom.\\n\\n\"\n",
        "        \"✨ **Try asking:**\\n\"\n",
        "        \"• 💪 What's your #1 superpower?\\n\"\n",
        "        \"• 🤔 What misconception do people have about you?\\n\"\n",
        "        \"• 🔥 How do you push your limits?\\n\"\n",
        "        \"• 🧠 What motivates you every day?\\n\\n\"\n",
        "        \"**📢 How to Use:**\\n\"\n",
        "        \"1. Click the mic and use record🔴\\n\"\n",
        "        \"2. Ask your question clearly\\n\"\n",
        "        \"3. Wait for VoxGPT’s reply ✨\\n\"\n",
        "    ),\n",
        "    examples=[\n",
        "        [\"What’s your #1 superpower?\"],\n",
        "        [\"What would your younger self be proud of?\"],\n",
        "        [\"How do you push your limits?\"],\n",
        "    ],\n",
        "    allow_flagging=\"never\",\n",
        "    live=True,\n",
        "    theme=\"default\"\n",
        ").launch(share=True)"
      ],
      "metadata": {
        "id": "qUYgLHxqejyi"
      },
      "execution_count": null,
      "outputs": []
    }
  ]
}